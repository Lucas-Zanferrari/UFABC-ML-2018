{
 "cells": [
  {
   "cell_type": "markdown",
   "metadata": {
    "run_control": {
     "marked": true
    }
   },
   "source": [
    "# Treino e Teste, Validação Cruzada e Regressão Linear"
   ]
  },
  {
   "cell_type": "markdown",
   "metadata": {
    "run_control": {
     "marked": true
    }
   },
   "source": [
    "## Introdução\n",
    "\n",
    "Trabalharemos com uma base de dados sobre [preços de imóveis em Ames, Iowa](https://www.kaggle.com/c/house-prices-advanced-regression-techniques). \n",
    "\n",
    "Essa base possui um número grande de atributos descritos a seguir.\n",
    "\n",
    "### Variável alvo\n",
    "\n",
    "* SalePrice: O preço do imóvel em dólar. \n",
    "\n",
    "\n",
    "### Atributos\n",
    "\n",
    "<table>\n",
    "  <tbody>    \n",
    "    <tr valign=\"top\">\n",
    "      <td valign=\"top\">\n",
    "        <ul>\n",
    "          <li>MoSold: Mês da Venda</li>\n",
    "          <li>YrSold: Ano da Venda</li><br>\n",
    "          \n",
    "          <li>SaleType: Tipo da venda</li>\n",
    "          <li>SaleCondition: Condição da venda</li><br>\n",
    "\n",
    "          <li>MSSubClass: O tipo de construção</li>\n",
    "          <li>MSZoning: Classificação da região</li><br>\n",
    "\n",
    "          <li>Neighborhood: Bairro</li>\n",
    "          <li>Street: Tipo de via de acesso</li>\n",
    "          <li>Alley: Tipo de via atrás da construção</li><br>\n",
    "\n",
    "          <li>LotArea: Área em pés ao quadrado</li>\n",
    "          <li>LotConfig: Configuração do loteamento</li>\n",
    "          <li>LotFrontage: Comprimento da rua de acesso</li>\n",
    "          <li>LotShape: Forma geral da propriedade</li><br>\n",
    "\n",
    "          <li>LandSlope: Inclinação da propriedade</li>\n",
    "          <li>LandContour: Contorno plano</li><br>\n",
    "\n",
    "          <li>YearBuilt: Data original da construção</li>\n",
    "          <li>YearRemodAdd: Data de reforma</li>\n",
    "          <li>OverallQual: Material e qualidade de acabamento</li>\n",
    "          <li>OverallCond: Nota de condições gerais</li><br>\n",
    "\n",
    "          <li>Utilities: Tipo de serviços encontrados</li>\n",
    "          <li>Foundation: Tipo de fundação</li>\n",
    "          <li>Functional: Nota da funcionalidade</li><br>\n",
    "\n",
    "          <li>BldgType: Tipo de moradia</li>\n",
    "          <li>HouseStyle: Estilo de moradia</li><br>\n",
    "          \n",
    "          <li>1stFlrSF: Pés quadrados do primeiro andar</li>\n",
    "          <li>2ndFlrSF: Pés quadrados do segundo andar</li>\n",
    "          <li>LowQualFinSF: Acabamento de baixa qualidade por metro quadrado</li>\n",
    "          <li>GrLivArea: Acima da média qualidade da área útil</li>\n",
    "          <li>TotRmsAbvGrd: Total de quartos acima do solo</li><br>\n",
    "\n",
    "          <li>Condition1: Proximidade a rodovia ou ferrovia</li>\n",
    "          <li>Condition2: Proximidade a uma segunda rodovia ou fererovia</li><br>\n",
    "          \n",
    "          <li>RoofStyle: Tipo de telhado</li>\n",
    "          <li>RoofMatl: Material do telhado</li><br>\n",
    "\n",
    "          <li>ExterQual: Qualidade do material externo</li>\n",
    "          <li>ExterCond: Condição atual do material externo</li>\n",
    "          <li>Exterior1st: Cobertura exterior do imóvel</li>\n",
    "          <li>Exterior2nd: Segundo tipo de cobertura exterior</li><br><br>\n",
    "          \n",
    "        </ul>\n",
    "      </td>\n",
    "      \n",
    "      <td valign=\"top\">\n",
    "        <ul>\n",
    "          <li>MasVnrType: Masonry veneer type</li>\n",
    "          <li>MasVnrArea: Masonry veneer area in square feet</li><br>\n",
    "          \n",
    "          <li>WoodDeckSF: Wood deck area in square feet</li>\n",
    "          <li>OpenPorchSF: Open porch area in square feet</li>\n",
    "          <li>EnclosedPorch: Enclosed porch area in square feet</li>\n",
    "          <li>3SsnPorch: Three season porch area in square feet</li>\n",
    "          <li>ScreenPorch: Screen porch area in square feet</li><br>\n",
    "\n",
    "          <li>PoolArea: Pool area in square feet</li>\n",
    "          <li>PoolQC: Pool quality</li>\n",
    "          <li>Fence: Fence quality</li>\n",
    "          <li>PavedDrive: Paved driveway</li><br>\n",
    "\n",
    "          <li>GarageType: Garage location</li>\n",
    "          <li>GarageYrBlt: Year garage was built</li>\n",
    "          <li>GarageFinish: Interior finish of the garage</li>\n",
    "          <li>GarageCars: Size of garage in car capacity</li>\n",
    "          <li>GarageArea: Size of garage in square feet</li>\n",
    "          <li>GarageQual: Garage quality</li>\n",
    "          <li>GarageCond: Garage condition</li><br>\n",
    "\n",
    "          <li>Heating: Type of heating</li>\n",
    "          <li>HeatingQC: Heating quality and condition</li>\n",
    "          <li>CentralAir: Central air conditioning</li>\n",
    "          <li>Electrical: Electrical system</li><br>\n",
    "          \n",
    "          <li>FullBath: Full bathrooms above grade</li>\n",
    "          <li>HalfBath: Half baths above grade</li><br>\n",
    "          \n",
    "          <li>BedroomAbvGr: Number of bedrooms above basement level</li><br>\n",
    "          \n",
    "          <li>KitchenAbvGr: Number of kitchens</li>\n",
    "          <li>KitchenQual: Kitchen quality</li><br>\n",
    "          \n",
    "          <li>Fireplaces: Number of fireplaces</li>\n",
    "          <li>FireplaceQu: Fireplace quality</li><br>\n",
    "          \n",
    "          <li>MiscFeature: Miscellaneous feature not covered in other categories</li>\n",
    "          <li>MiscVal: Value of miscellaneous feature</li><br>\n",
    "          \n",
    "          <li>BsmtQual: Height of the basement</li>\n",
    "          <li>BsmtCond: General condition of the basement</li>\n",
    "          <li>BsmtExposure: Walkout or garden level basement walls</li>\n",
    "          <li>BsmtFinType1: Quality of basement finished area</li>\n",
    "          <li>BsmtFinSF1: Type 1 finished square feet</li>\n",
    "          <li>BsmtFinType2: Quality of second finished area (if present)</li>\n",
    "          <li>BsmtFinSF2: Type 2 finished square feet</li>\n",
    "          <li>BsmtUnfSF: Unfinished square feet of basement area</li>\n",
    "          <li>BsmtFullBath: Basement full bathrooms</li>\n",
    "          <li>BsmtHalfBath: Basement half bathrooms</li>\n",
    "          <li>TotalBsmtSF: Total square feet of basement area</li>\n",
    "        </ul>\n",
    "      </td>\n",
    "    </tr>\n",
    "    \n",
    "  </tbody>\n",
    "</table>\n"
   ]
  },
  {
   "cell_type": "markdown",
   "metadata": {
    "run_control": {
     "marked": true
    }
   },
   "source": [
    "## Exercício 1\n",
    "\n",
    "* Importe os dados usando Pandas e examine a dimensão da base. Existem 79 atributos mais o preditor, o preço de venda (`SalePrice`). \n",
    "* Existem três diferentes tipos: integers (`int64`), floats (`float64`), e strings (`object`, categóricos). Examine quantos existem de cada tipo. "
   ]
  },
  {
   "cell_type": "code",
   "execution_count": 1,
   "metadata": {
    "run_control": {
     "marked": true
    }
   },
   "outputs": [
    {
     "name": "stdout",
     "output_type": "stream",
     "text": [
      "(Linhas, Colunas): (1379, 80)\n"
     ]
    }
   ],
   "source": [
    "import pandas as pd\n",
    "import numpy as np\n",
    "\n",
    "filepath = 'data/Ames_Housing_Sales.csv'\n",
    "data = pd.read_csv(filepath, sep = ',')\n",
    "\n",
    "# imprima a dimensão da base\n",
    "print(f'(Linhas, Colunas): {data.shape}')"
   ]
  },
  {
   "cell_type": "code",
   "execution_count": 2,
   "metadata": {
    "run_control": {
     "marked": true
    }
   },
   "outputs": [
    {
     "data": {
      "text/plain": [
       "object     43\n",
       "float64    21\n",
       "int64      16\n",
       "dtype: int64"
      ]
     },
     "execution_count": 2,
     "metadata": {},
     "output_type": "execute_result"
    }
   ],
   "source": [
    "# Use o método value_counts() no atributo dtypes\n",
    "data.dtypes.value_counts()"
   ]
  },
  {
   "cell_type": "markdown",
   "metadata": {
    "run_control": {
     "marked": true
    }
   },
   "source": [
    "## Exercício 2\n",
    "\n",
    "Como discutido em aula, um desafio da área de Aprendizado de Máquina, principalmente quando lidamos com dados com muitos atributos, é garantir que cada coluna seja codificada corretamente.\n",
    "\n",
    "Isso é particularmente verdade com atributos que são ordinais e categóricos sem ordem. Os categóricos sem ordem devem ser codificados de forma binária através do procedimento One-hot-encoding, porém isso costuma aumentar significativamente o total de atributos e cria atributos altamente correlacionados.\n",
    "\n",
    "Determine o total de atributos de nossa base se todos os atributos categóricos fossem convertidos para binários. Lembre-se que para um atributo categórico com `n` valores, precisamos apenas de `n-1` atributos para representá-lo de forma binária."
   ]
  },
  {
   "cell_type": "code",
   "execution_count": 3,
   "metadata": {
    "run_control": {
     "marked": true
    }
   },
   "outputs": [
    {
     "data": {
      "text/plain": [
       "Index(['Alley', 'BldgType', 'BsmtCond', 'BsmtExposure', 'BsmtFinType1',\n",
       "       'BsmtFinType2', 'BsmtQual', 'CentralAir', 'Condition1', 'Condition2',\n",
       "       'Electrical', 'ExterCond', 'ExterQual', 'Exterior1st', 'Exterior2nd',\n",
       "       'Fence', 'FireplaceQu', 'Foundation', 'Functional', 'GarageCond',\n",
       "       'GarageFinish', 'GarageQual', 'GarageType', 'Heating', 'HeatingQC',\n",
       "       'HouseStyle', 'KitchenQual', 'LandContour', 'LandSlope', 'LotConfig',\n",
       "       'LotShape', 'MSZoning', 'MasVnrType', 'MiscFeature', 'Neighborhood',\n",
       "       'PavedDrive', 'PoolQC', 'RoofMatl', 'RoofStyle', 'SaleCondition',\n",
       "       'SaleType', 'Street', 'Utilities'],\n",
       "      dtype='object')"
      ]
     },
     "execution_count": 3,
     "metadata": {},
     "output_type": "execute_result"
    }
   ],
   "source": [
    "# Selecione apenas os tipos object\n",
    "mask = data.dtypes == np.object\n",
    "categorical_cols = data.columns[mask]\n",
    "\n",
    "# Usei o loop abaixo para predizer o valor que eu precisaria atingir antes de implementar as transformações\n",
    "# column_counter = 0\n",
    "# for column in categorical_cols:\n",
    "#     column_counter += (len(data[column].value_counts()) - 1)\n",
    "\n",
    "# print(column_counter)\n",
    "categorical_cols"
   ]
  },
  {
   "cell_type": "code",
   "execution_count": 4,
   "metadata": {
    "run_control": {
     "marked": true
    }
   },
   "outputs": [
    {
     "data": {
      "text/plain": [
       "Utilities         2\n",
       "Street            2\n",
       "CentralAir        2\n",
       "PavedDrive        3\n",
       "LandSlope         3\n",
       "GarageFinish      3\n",
       "Alley             3\n",
       "PoolQC            4\n",
       "ExterCond         4\n",
       "ExterQual         4\n",
       "MasVnrType        4\n",
       "LotShape          4\n",
       "BsmtCond          4\n",
       "LandContour       4\n",
       "KitchenQual       4\n",
       "HeatingQC         5\n",
       "BldgType          5\n",
       "MiscFeature       5\n",
       "MSZoning          5\n",
       "LotConfig         5\n",
       "BsmtQual          5\n",
       "GarageQual        5\n",
       "GarageCond        5\n",
       "Fence             5\n",
       "Electrical        5\n",
       "BsmtExposure      5\n",
       "GarageType        6\n",
       "Heating           6\n",
       "BsmtFinType1      6\n",
       "SaleCondition     6\n",
       "RoofStyle         6\n",
       "Foundation        6\n",
       "FireplaceQu       6\n",
       "BsmtFinType2      7\n",
       "Functional        7\n",
       "Condition2        8\n",
       "RoofMatl          8\n",
       "HouseStyle        8\n",
       "Condition1        9\n",
       "SaleType          9\n",
       "Exterior1st      14\n",
       "Exterior2nd      16\n",
       "Neighborhood     25\n",
       "dtype: int64"
      ]
     },
     "execution_count": 4,
     "metadata": {},
     "output_type": "execute_result"
    }
   ],
   "source": [
    "# Determine quantos atributos seriam criados\n",
    "# Dica: aplique (apply) o método nunique no dataframe nas colunas categorical_cols\n",
    "# opcionalmente ordene os valores utilizando sort_values\n",
    "# verifique a saída\n",
    "num_ohc_cols = data[categorical_cols].apply(pd.Series.nunique).sort_values()\n",
    "num_ohc_cols"
   ]
  },
  {
   "cell_type": "code",
   "execution_count": 5,
   "metadata": {},
   "outputs": [
    {
     "data": {
      "text/plain": [
       "215"
      ]
     },
     "execution_count": 5,
     "metadata": {},
     "output_type": "execute_result"
    }
   ],
   "source": [
    "# Elimine do resultado toda coluna com apenas 1 valor categórico \n",
    "# (Isso é inútil neste caso, nenhuma coluna possui apenas um valor categórico)\n",
    "filtered_num_ohc_cols = num_ohc_cols[num_ohc_cols.values > 1]\n",
    "\n",
    "# filtered_keys = []\n",
    "# for key, value in num_ohc_cols.items():\n",
    "#     if value > 1:\n",
    "#         filtered_keys.append(key)\n",
    "# filtered_num_ohc_cols = num_ohc_cols[filtered_keys]\n",
    "\n",
    "# Subtraia em um os valores\n",
    "filtered_num_ohc_cols -= 1\n",
    "\n",
    "# Faça a soma dos valores, a quantidade de novos atributos é significativo!\n",
    "filtered_num_ohc_cols.sum()"
   ]
  },
  {
   "cell_type": "markdown",
   "metadata": {
    "run_control": {
     "marked": true
    }
   },
   "source": [
    "## Exercício 3\n",
    "\n",
    "Vamos criar uma nova base de dados onde todos os atributos categóricos são binarizados pelo procedimento one-hot-encoding. Podemos testar como isso afeta o modelo de regressão.\n",
    "\n",
    "* Usando o método `.copy()`  do dataframe, crie uma cópia para aplicar o one-hot encoding\n",
    "* Nesse novo dataframe, aplique o LabelEncoder seguido do OneHotEncoder para gerar os novos atributos. Não se esqueça de aplicar o método `.drop()` nas colunas originais.\n",
    "* Para a base original, aplique `.drop()` para todos os atributos categóricos.\n",
    "\n",
    "Para gerar o one-hot-encoding das variáveis, primeiro aplicaremos o `LabelEncoder` do Scikit-Learn para transformar as strings em números de ids. Após esse procedimento, podemos aplicar o `OneHotEncoder` para gerar os novos atributos."
   ]
  },
  {
   "cell_type": "code",
   "execution_count": 6,
   "metadata": {
    "run_control": {
     "marked": true
    }
   },
   "outputs": [
    {
     "data": {
      "text/html": [
       "<div>\n",
       "<style scoped>\n",
       "    .dataframe tbody tr th:only-of-type {\n",
       "        vertical-align: middle;\n",
       "    }\n",
       "\n",
       "    .dataframe tbody tr th {\n",
       "        vertical-align: top;\n",
       "    }\n",
       "\n",
       "    .dataframe thead th {\n",
       "        text-align: right;\n",
       "    }\n",
       "</style>\n",
       "<table border=\"1\" class=\"dataframe\">\n",
       "  <thead>\n",
       "    <tr style=\"text-align: right;\">\n",
       "      <th></th>\n",
       "      <th>1stFlrSF</th>\n",
       "      <th>2ndFlrSF</th>\n",
       "      <th>3SsnPorch</th>\n",
       "      <th>BedroomAbvGr</th>\n",
       "      <th>BsmtFinSF1</th>\n",
       "      <th>BsmtFinSF2</th>\n",
       "      <th>BsmtFullBath</th>\n",
       "      <th>BsmtHalfBath</th>\n",
       "      <th>BsmtUnfSF</th>\n",
       "      <th>EnclosedPorch</th>\n",
       "      <th>...</th>\n",
       "      <th>Neighborhood_15</th>\n",
       "      <th>Neighborhood_16</th>\n",
       "      <th>Neighborhood_17</th>\n",
       "      <th>Neighborhood_18</th>\n",
       "      <th>Neighborhood_19</th>\n",
       "      <th>Neighborhood_20</th>\n",
       "      <th>Neighborhood_21</th>\n",
       "      <th>Neighborhood_22</th>\n",
       "      <th>Neighborhood_23</th>\n",
       "      <th>Neighborhood_24</th>\n",
       "    </tr>\n",
       "  </thead>\n",
       "  <tbody>\n",
       "    <tr>\n",
       "      <th>0</th>\n",
       "      <td>856.0</td>\n",
       "      <td>854.0</td>\n",
       "      <td>0.0</td>\n",
       "      <td>3</td>\n",
       "      <td>706.0</td>\n",
       "      <td>0.0</td>\n",
       "      <td>1</td>\n",
       "      <td>0</td>\n",
       "      <td>150.0</td>\n",
       "      <td>0.0</td>\n",
       "      <td>...</td>\n",
       "      <td>0.0</td>\n",
       "      <td>0.0</td>\n",
       "      <td>0.0</td>\n",
       "      <td>0.0</td>\n",
       "      <td>0.0</td>\n",
       "      <td>0.0</td>\n",
       "      <td>0.0</td>\n",
       "      <td>0.0</td>\n",
       "      <td>0.0</td>\n",
       "      <td>0.0</td>\n",
       "    </tr>\n",
       "    <tr>\n",
       "      <th>1</th>\n",
       "      <td>1262.0</td>\n",
       "      <td>0.0</td>\n",
       "      <td>0.0</td>\n",
       "      <td>3</td>\n",
       "      <td>978.0</td>\n",
       "      <td>0.0</td>\n",
       "      <td>0</td>\n",
       "      <td>1</td>\n",
       "      <td>284.0</td>\n",
       "      <td>0.0</td>\n",
       "      <td>...</td>\n",
       "      <td>0.0</td>\n",
       "      <td>0.0</td>\n",
       "      <td>0.0</td>\n",
       "      <td>0.0</td>\n",
       "      <td>0.0</td>\n",
       "      <td>0.0</td>\n",
       "      <td>0.0</td>\n",
       "      <td>0.0</td>\n",
       "      <td>0.0</td>\n",
       "      <td>1.0</td>\n",
       "    </tr>\n",
       "    <tr>\n",
       "      <th>2</th>\n",
       "      <td>920.0</td>\n",
       "      <td>866.0</td>\n",
       "      <td>0.0</td>\n",
       "      <td>3</td>\n",
       "      <td>486.0</td>\n",
       "      <td>0.0</td>\n",
       "      <td>1</td>\n",
       "      <td>0</td>\n",
       "      <td>434.0</td>\n",
       "      <td>0.0</td>\n",
       "      <td>...</td>\n",
       "      <td>0.0</td>\n",
       "      <td>0.0</td>\n",
       "      <td>0.0</td>\n",
       "      <td>0.0</td>\n",
       "      <td>0.0</td>\n",
       "      <td>0.0</td>\n",
       "      <td>0.0</td>\n",
       "      <td>0.0</td>\n",
       "      <td>0.0</td>\n",
       "      <td>0.0</td>\n",
       "    </tr>\n",
       "    <tr>\n",
       "      <th>3</th>\n",
       "      <td>961.0</td>\n",
       "      <td>756.0</td>\n",
       "      <td>0.0</td>\n",
       "      <td>3</td>\n",
       "      <td>216.0</td>\n",
       "      <td>0.0</td>\n",
       "      <td>1</td>\n",
       "      <td>0</td>\n",
       "      <td>540.0</td>\n",
       "      <td>272.0</td>\n",
       "      <td>...</td>\n",
       "      <td>0.0</td>\n",
       "      <td>0.0</td>\n",
       "      <td>0.0</td>\n",
       "      <td>0.0</td>\n",
       "      <td>0.0</td>\n",
       "      <td>0.0</td>\n",
       "      <td>0.0</td>\n",
       "      <td>0.0</td>\n",
       "      <td>0.0</td>\n",
       "      <td>0.0</td>\n",
       "    </tr>\n",
       "    <tr>\n",
       "      <th>4</th>\n",
       "      <td>1145.0</td>\n",
       "      <td>1053.0</td>\n",
       "      <td>0.0</td>\n",
       "      <td>4</td>\n",
       "      <td>655.0</td>\n",
       "      <td>0.0</td>\n",
       "      <td>1</td>\n",
       "      <td>0</td>\n",
       "      <td>490.0</td>\n",
       "      <td>0.0</td>\n",
       "      <td>...</td>\n",
       "      <td>1.0</td>\n",
       "      <td>0.0</td>\n",
       "      <td>0.0</td>\n",
       "      <td>0.0</td>\n",
       "      <td>0.0</td>\n",
       "      <td>0.0</td>\n",
       "      <td>0.0</td>\n",
       "      <td>0.0</td>\n",
       "      <td>0.0</td>\n",
       "      <td>0.0</td>\n",
       "    </tr>\n",
       "    <tr>\n",
       "      <th>5</th>\n",
       "      <td>796.0</td>\n",
       "      <td>566.0</td>\n",
       "      <td>320.0</td>\n",
       "      <td>1</td>\n",
       "      <td>732.0</td>\n",
       "      <td>0.0</td>\n",
       "      <td>1</td>\n",
       "      <td>0</td>\n",
       "      <td>64.0</td>\n",
       "      <td>0.0</td>\n",
       "      <td>...</td>\n",
       "      <td>0.0</td>\n",
       "      <td>0.0</td>\n",
       "      <td>0.0</td>\n",
       "      <td>0.0</td>\n",
       "      <td>0.0</td>\n",
       "      <td>0.0</td>\n",
       "      <td>0.0</td>\n",
       "      <td>0.0</td>\n",
       "      <td>0.0</td>\n",
       "      <td>0.0</td>\n",
       "    </tr>\n",
       "    <tr>\n",
       "      <th>6</th>\n",
       "      <td>1694.0</td>\n",
       "      <td>0.0</td>\n",
       "      <td>0.0</td>\n",
       "      <td>3</td>\n",
       "      <td>1369.0</td>\n",
       "      <td>0.0</td>\n",
       "      <td>1</td>\n",
       "      <td>0</td>\n",
       "      <td>317.0</td>\n",
       "      <td>0.0</td>\n",
       "      <td>...</td>\n",
       "      <td>0.0</td>\n",
       "      <td>0.0</td>\n",
       "      <td>0.0</td>\n",
       "      <td>0.0</td>\n",
       "      <td>0.0</td>\n",
       "      <td>0.0</td>\n",
       "      <td>1.0</td>\n",
       "      <td>0.0</td>\n",
       "      <td>0.0</td>\n",
       "      <td>0.0</td>\n",
       "    </tr>\n",
       "    <tr>\n",
       "      <th>7</th>\n",
       "      <td>1107.0</td>\n",
       "      <td>983.0</td>\n",
       "      <td>0.0</td>\n",
       "      <td>3</td>\n",
       "      <td>859.0</td>\n",
       "      <td>32.0</td>\n",
       "      <td>1</td>\n",
       "      <td>0</td>\n",
       "      <td>216.0</td>\n",
       "      <td>228.0</td>\n",
       "      <td>...</td>\n",
       "      <td>0.0</td>\n",
       "      <td>0.0</td>\n",
       "      <td>0.0</td>\n",
       "      <td>0.0</td>\n",
       "      <td>0.0</td>\n",
       "      <td>0.0</td>\n",
       "      <td>0.0</td>\n",
       "      <td>0.0</td>\n",
       "      <td>0.0</td>\n",
       "      <td>0.0</td>\n",
       "    </tr>\n",
       "    <tr>\n",
       "      <th>8</th>\n",
       "      <td>1022.0</td>\n",
       "      <td>752.0</td>\n",
       "      <td>0.0</td>\n",
       "      <td>2</td>\n",
       "      <td>0.0</td>\n",
       "      <td>0.0</td>\n",
       "      <td>0</td>\n",
       "      <td>0</td>\n",
       "      <td>952.0</td>\n",
       "      <td>205.0</td>\n",
       "      <td>...</td>\n",
       "      <td>0.0</td>\n",
       "      <td>0.0</td>\n",
       "      <td>1.0</td>\n",
       "      <td>0.0</td>\n",
       "      <td>0.0</td>\n",
       "      <td>0.0</td>\n",
       "      <td>0.0</td>\n",
       "      <td>0.0</td>\n",
       "      <td>0.0</td>\n",
       "      <td>0.0</td>\n",
       "    </tr>\n",
       "    <tr>\n",
       "      <th>9</th>\n",
       "      <td>1077.0</td>\n",
       "      <td>0.0</td>\n",
       "      <td>0.0</td>\n",
       "      <td>2</td>\n",
       "      <td>851.0</td>\n",
       "      <td>0.0</td>\n",
       "      <td>1</td>\n",
       "      <td>0</td>\n",
       "      <td>140.0</td>\n",
       "      <td>0.0</td>\n",
       "      <td>...</td>\n",
       "      <td>0.0</td>\n",
       "      <td>0.0</td>\n",
       "      <td>0.0</td>\n",
       "      <td>0.0</td>\n",
       "      <td>0.0</td>\n",
       "      <td>0.0</td>\n",
       "      <td>0.0</td>\n",
       "      <td>0.0</td>\n",
       "      <td>0.0</td>\n",
       "      <td>0.0</td>\n",
       "    </tr>\n",
       "  </tbody>\n",
       "</table>\n",
       "<p>10 rows × 295 columns</p>\n",
       "</div>"
      ],
      "text/plain": [
       "   1stFlrSF  2ndFlrSF  3SsnPorch  BedroomAbvGr  BsmtFinSF1  BsmtFinSF2  \\\n",
       "0     856.0     854.0        0.0             3       706.0         0.0   \n",
       "1    1262.0       0.0        0.0             3       978.0         0.0   \n",
       "2     920.0     866.0        0.0             3       486.0         0.0   \n",
       "3     961.0     756.0        0.0             3       216.0         0.0   \n",
       "4    1145.0    1053.0        0.0             4       655.0         0.0   \n",
       "5     796.0     566.0      320.0             1       732.0         0.0   \n",
       "6    1694.0       0.0        0.0             3      1369.0         0.0   \n",
       "7    1107.0     983.0        0.0             3       859.0        32.0   \n",
       "8    1022.0     752.0        0.0             2         0.0         0.0   \n",
       "9    1077.0       0.0        0.0             2       851.0         0.0   \n",
       "\n",
       "   BsmtFullBath  BsmtHalfBath  BsmtUnfSF  EnclosedPorch       ...         \\\n",
       "0             1             0      150.0            0.0       ...          \n",
       "1             0             1      284.0            0.0       ...          \n",
       "2             1             0      434.0            0.0       ...          \n",
       "3             1             0      540.0          272.0       ...          \n",
       "4             1             0      490.0            0.0       ...          \n",
       "5             1             0       64.0            0.0       ...          \n",
       "6             1             0      317.0            0.0       ...          \n",
       "7             1             0      216.0          228.0       ...          \n",
       "8             0             0      952.0          205.0       ...          \n",
       "9             1             0      140.0            0.0       ...          \n",
       "\n",
       "   Neighborhood_15  Neighborhood_16  Neighborhood_17  Neighborhood_18  \\\n",
       "0              0.0              0.0              0.0              0.0   \n",
       "1              0.0              0.0              0.0              0.0   \n",
       "2              0.0              0.0              0.0              0.0   \n",
       "3              0.0              0.0              0.0              0.0   \n",
       "4              1.0              0.0              0.0              0.0   \n",
       "5              0.0              0.0              0.0              0.0   \n",
       "6              0.0              0.0              0.0              0.0   \n",
       "7              0.0              0.0              0.0              0.0   \n",
       "8              0.0              0.0              1.0              0.0   \n",
       "9              0.0              0.0              0.0              0.0   \n",
       "\n",
       "   Neighborhood_19  Neighborhood_20  Neighborhood_21  Neighborhood_22  \\\n",
       "0              0.0              0.0              0.0              0.0   \n",
       "1              0.0              0.0              0.0              0.0   \n",
       "2              0.0              0.0              0.0              0.0   \n",
       "3              0.0              0.0              0.0              0.0   \n",
       "4              0.0              0.0              0.0              0.0   \n",
       "5              0.0              0.0              0.0              0.0   \n",
       "6              0.0              0.0              1.0              0.0   \n",
       "7              0.0              0.0              0.0              0.0   \n",
       "8              0.0              0.0              0.0              0.0   \n",
       "9              0.0              0.0              0.0              0.0   \n",
       "\n",
       "   Neighborhood_23  Neighborhood_24  \n",
       "0              0.0              0.0  \n",
       "1              0.0              1.0  \n",
       "2              0.0              0.0  \n",
       "3              0.0              0.0  \n",
       "4              0.0              0.0  \n",
       "5              0.0              0.0  \n",
       "6              0.0              0.0  \n",
       "7              0.0              0.0  \n",
       "8              0.0              0.0  \n",
       "9              0.0              0.0  \n",
       "\n",
       "[10 rows x 295 columns]"
      ]
     },
     "execution_count": 6,
     "metadata": {},
     "output_type": "execute_result"
    }
   ],
   "source": [
    "from sklearn.preprocessing import OneHotEncoder, LabelEncoder\n",
    "\n",
    "# Copia dos dados\n",
    "data_ohc = data.copy()\n",
    "\n",
    "# Vamos codificar\n",
    "le = LabelEncoder()\n",
    "ohc = OneHotEncoder()\n",
    "\n",
    "# para cada coluna categórica\n",
    "for col in num_ohc_cols.index:\n",
    "    \n",
    "    # Aplique o método .fit_transform do LabelEncoder e especifique .astype(np.int)\n",
    "    # o reshape faz com que dat seja uma matriz multidimensional com uma coluna (ao invés de um vetor)\n",
    "    dat = le.fit_transform(data_ohc[col]).astype(np.int).reshape(-1, 1)\n",
    "    \n",
    "    # Remova a coluna col da base de dados\n",
    "    data_ohc = data_ohc.drop(columns = [col])\n",
    "    \n",
    "    # One hot encode the data--this returns a sparse array\n",
    "    new_dat = ohc.fit_transform(dat)\n",
    "    \n",
    "    # Vamos criar novos nomes de colunas\n",
    "    n_cols = new_dat.shape[1]\n",
    "    col_names = ['_'.join([col, str(x)]) for x in range(n_cols)]\n",
    "    \n",
    "    # Cria um novo dataframe a partir de new_dat e col_names, utilize o índice de data_ohc\n",
    "    new_df = pd.DataFrame(data = new_dat.toarray(), columns = col_names)\n",
    "    \n",
    "    # Concatene data_ohc com new_df\n",
    "    data_ohc = data_ohc.join(new_df)\n",
    "    \n",
    "data_ohc.to_csv('~/Documents/data_ohc.csv')\n",
    "data_ohc[:10]"
   ]
  },
  {
   "cell_type": "code",
   "execution_count": 7,
   "metadata": {
    "run_control": {
     "marked": true
    }
   },
   "outputs": [
    {
     "data": {
      "text/plain": [
       "215"
      ]
     },
     "execution_count": 7,
     "metadata": {},
     "output_type": "execute_result"
    }
   ],
   "source": [
    "# Calcule a diferença entre a quantidade de atributos da base original e da base nova\n",
    "data_ohc.shape[1] - data.shape[1]"
   ]
  },
  {
   "cell_type": "code",
   "execution_count": 8,
   "metadata": {
    "run_control": {
     "marked": true
    }
   },
   "outputs": [
    {
     "name": "stdout",
     "output_type": "stream",
     "text": [
      "Dimensões do dataframe com os dados originais:\n",
      "\t(Linhas, Colunas): (1379, 80)\n",
      "Dimensões do dataframe sem os dados categóricos:\n",
      "\t(Linhas, Colunas): (1379, 37)\n"
     ]
    }
   ],
   "source": [
    "#imprima as dimensões dos dados originais\n",
    "print(f'Dimensões do dataframe com os dados originais:\\n\\t(Linhas, Colunas): {data.shape}')\n",
    "\n",
    "# Remova as colunas categóricas do dataframe original\n",
    "non_categorical_data = data.drop(columns = categorical_cols)\n",
    "\n",
    "#imprima as dimensões dos dados originais, sem os atributos categóricos\n",
    "print(f'Dimensões do dataframe sem os dados categóricos:\\n\\t(Linhas, Colunas): {non_categorical_data.shape}')"
   ]
  },
  {
   "cell_type": "markdown",
   "metadata": {
    "run_control": {
     "marked": true
    }
   },
   "source": [
    "## Exercício 4\n",
    "\n",
    "* Crie separações entre treino e teste para ambas as bases de dados. Para garantir a mesma divisão, use o mesmo valor para o parâmetro `random_state` em cada separação.\n",
    "* Para cada base de dados, aplique um modelo de Regressão Linear na base de treino.\n",
    "* Calcule o erro quadrático médio para a base de treino e base de teste de cada modelo. Qual modelo gera um erro menor na base de teste? Por que?"
   ]
  },
  {
   "cell_type": "code",
   "execution_count": 9,
   "metadata": {
    "run_control": {
     "marked": true
    }
   },
   "outputs": [],
   "source": [
    "from sklearn.model_selection import train_test_split\n",
    "\n",
    "y_col = 'SalePrice'\n",
    "\n",
    "# Faça a divisão da base original utilizando test_size=0.3 e random_state=42\n",
    "feature_cols = [x for x in non_categorical_data.columns if x != y_col]\n",
    "X_data = non_categorical_data[feature_cols]\n",
    "y_data = non_categorical_data[y_col]\n",
    "\n",
    "X_train, X_test, y_train, y_test = train_test_split(X_data, y_data, test_size = 0.3, random_state = 42)\n",
    "\n",
    "# Repita para a base data_ohc\n",
    "feature_cols_ohc = [x for x in data_ohc.columns if x != y_col]\n",
    "X_data_ohc = data_ohc[feature_cols_ohc]\n",
    "y_data_ohc = data_ohc[y_col]\n",
    "\n",
    "X_train_ohc, X_test_ohc, y_train_ohc, y_test_ohc = train_test_split(X_data_ohc, y_data_ohc, test_size = 0.3, random_state = 42)"
   ]
  },
  {
   "cell_type": "code",
   "execution_count": 10,
   "metadata": {
    "run_control": {
     "marked": true
    }
   },
   "outputs": [
    {
     "data": {
      "text/plain": [
       "True"
      ]
     },
     "execution_count": 10,
     "metadata": {},
     "output_type": "execute_result"
    }
   ],
   "source": [
    "# Vamos comparar se os índices são os mesmos, o resultado deve ser True\n",
    "(X_train_ohc.index == X_train.index).all()"
   ]
  },
  {
   "cell_type": "code",
   "execution_count": 11,
   "metadata": {
    "run_control": {
     "marked": true
    },
    "scrolled": true
   },
   "outputs": [
    {
     "data": {
      "text/html": [
       "<div>\n",
       "<style scoped>\n",
       "    .dataframe tbody tr th:only-of-type {\n",
       "        vertical-align: middle;\n",
       "    }\n",
       "\n",
       "    .dataframe tbody tr th {\n",
       "        vertical-align: top;\n",
       "    }\n",
       "\n",
       "    .dataframe thead th {\n",
       "        text-align: right;\n",
       "    }\n",
       "</style>\n",
       "<table border=\"1\" class=\"dataframe\">\n",
       "  <thead>\n",
       "    <tr style=\"text-align: right;\">\n",
       "      <th></th>\n",
       "      <th>no enc</th>\n",
       "      <th>one-hot enc</th>\n",
       "    </tr>\n",
       "  </thead>\n",
       "  <tbody>\n",
       "    <tr>\n",
       "      <th>test</th>\n",
       "      <td>1.372182e+09</td>\n",
       "      <td>6.400528e+18</td>\n",
       "    </tr>\n",
       "    <tr>\n",
       "      <th>train</th>\n",
       "      <td>1.131507e+09</td>\n",
       "      <td>3.177198e+08</td>\n",
       "    </tr>\n",
       "  </tbody>\n",
       "</table>\n",
       "</div>"
      ],
      "text/plain": [
       "             no enc   one-hot enc\n",
       "test   1.372182e+09  6.400528e+18\n",
       "train  1.131507e+09  3.177198e+08"
      ]
     },
     "execution_count": 11,
     "metadata": {},
     "output_type": "execute_result"
    }
   ],
   "source": [
    "from sklearn.linear_model import LinearRegression\n",
    "from sklearn.metrics import mean_squared_error\n",
    "\n",
    "LR = LinearRegression()\n",
    "\n",
    "# Lista para armazenar os erros das bases\n",
    "error_df = list()\n",
    "\n",
    "# Aplique .fit() na base de treino e predict na base de treino e teste\n",
    "LR = LR.fit(X_train, y_train)\n",
    "y_train_pred = LR.predict(X_train)\n",
    "y_test_pred = LR.predict(X_test)\n",
    "\n",
    "error_df.append(pd.Series({'train': mean_squared_error(y_train, y_train_pred),\n",
    "                           'test' : mean_squared_error(y_test,  y_test_pred)},\n",
    "                           name='no enc'))\n",
    "\n",
    "# Repita para a base data_ohc\n",
    "LR = LR.fit(X_train_ohc, y_train_ohc)\n",
    "y_train_ohc_pred = LR.predict(X_train_ohc)\n",
    "y_test_ohc_pred = LR.predict(X_test_ohc)\n",
    "\n",
    "error_df.append(pd.Series({'train': mean_squared_error(y_train_ohc, y_train_ohc_pred),\n",
    "                           'test' : mean_squared_error(y_test_ohc,  y_test_ohc_pred)},\n",
    "                          name='one-hot enc'))\n",
    "\n",
    "# Juntar os resultados em uma tabela\n",
    "error_df = pd.concat(error_df, axis=1)\n",
    "error_df"
   ]
  },
  {
   "cell_type": "markdown",
   "metadata": {
    "run_control": {
     "marked": true
    }
   },
   "source": [
    "Note que os valores de erro na base one-hot encoded são bem diferentes para o treino e teste. Isso ocorre pois os modelos com atributos categóricos gerarm um overfit da base. Na próxima lista tentaremos tratar esse problema conforme visto em sala de aula."
   ]
  },
  {
   "cell_type": "markdown",
   "metadata": {
    "run_control": {
     "marked": true
    }
   },
   "source": [
    "## Exercício 5\n",
    "\n",
    "Para ambas as bases:\n",
    "\n",
    "* Escale os atributos que não são categóricos (binários) utilizando um dos seguintes modelos: `StandardScaler`, `MinMaxScaler`, `MaxAbsScaler`.\n",
    "* Aplique novamente o modelo de regressão e recalcule os erros.\n",
    "\n",
    "Não se esqueça que você deve aplicar o método `.fit_transform()` apenas na base de treino e o método `.transform()` na base de teste. Explique o porque."
   ]
  },
  {
   "cell_type": "code",
   "execution_count": 12,
   "metadata": {},
   "outputs": [],
   "source": [
    "# Mute the setting wtih a copy warnings\n",
    "pd.options.mode.chained_assignment = None"
   ]
  },
  {
   "cell_type": "code",
   "execution_count": 13,
   "metadata": {},
   "outputs": [
    {
     "name": "stdout",
     "output_type": "stream",
     "text": [
      "not_encoded - maxabsscaling          1.372024e+09\n",
      "not_encoded - minmaxscaling          1.372329e+09\n",
      "not_encoded - standardscaling        1.372182e+09\n",
      "one_hot_encoded - maxabsscaling      8.065328e+09\n",
      "one_hot_encoded - minmaxscaling      8.065328e+09\n",
      "one_hot_encoded - standardscaling    8.065328e+09\n",
      "--------------------------------------------------------------------------------\n",
      "not_encoded - maxabsscaling 1372023689.437869\n",
      "not_encoded - minmaxscaling 1372329164.9811304\n",
      "not_encoded - standardscaling 1372182358.934502\n",
      "one_hot_encoded - maxabsscaling 8065327607.169354\n",
      "one_hot_encoded - minmaxscaling 8065327607.386999\n",
      "one_hot_encoded - standardscaling 8065327607.246995\n"
     ]
    }
   ],
   "source": [
    "from sklearn.preprocessing import StandardScaler, MinMaxScaler, MaxAbsScaler\n",
    "\n",
    "\n",
    "scalers = {'standard': StandardScaler(),\n",
    "           'minmax': MinMaxScaler(),\n",
    "           'maxabs': MaxAbsScaler()}\n",
    "\n",
    "training_test_sets = {\n",
    "    'not_encoded': (X_train, y_train, X_test, y_test),\n",
    "    'one_hot_encoded': (X_train_ohc, y_train_ohc, X_test_ohc, y_test_ohc)}\n",
    "\n",
    "\n",
    "# Lista de colunas numéricas\n",
    "mask = X_train.dtypes == np.float\n",
    "float_columns = X_train.columns[mask]\n",
    "\n",
    "# modelo de regressão\n",
    "LR = LinearRegression()\n",
    "\n",
    "# itera sobre todas as combinações de escala e bases\n",
    "errors = {}\n",
    "for encoding_label, (_X_train, _y_train, _X_test, _y_test) in training_test_sets.items():\n",
    "    for scaler_label, scaler in scalers.items():\n",
    "        trainingset = _X_train.copy()  # vamos fazer uma cópia para não bagunçar o original\n",
    "        testset = _X_test.copy()\n",
    "        trainingset[float_columns] = scaler.fit_transform(trainingset[float_columns])\n",
    "        testset[float_columns] = scaler.transform(testset[float_columns])\n",
    "        LR.fit(trainingset, _y_train)\n",
    "        predictions = LR.predict(testset)\n",
    "        key = encoding_label + ' - ' + scaler_label + 'scaling'\n",
    "        errors[key] = mean_squared_error(_y_test, predictions)\n",
    "\n",
    "errors = pd.Series(errors)\n",
    "print(errors.to_string())\n",
    "print('-' * 80)\n",
    "for key, error_val in errors.items():\n",
    "    print(key, error_val)"
   ]
  },
  {
   "cell_type": "markdown",
   "metadata": {
    "run_control": {
     "marked": true
    }
   },
   "source": [
    "## Exercício 6\n",
    "\n",
    "Plote os valores preditos vs valores reais para um dos modelos gerados"
   ]
  },
  {
   "cell_type": "code",
   "execution_count": 14,
   "metadata": {
    "run_control": {
     "marked": true
    }
   },
   "outputs": [
    {
     "data": {
      "text/plain": [
       "Text(0.5,0,'Real values')"
      ]
     },
     "execution_count": 14,
     "metadata": {},
     "output_type": "execute_result"
    },
    {
     "data": {
      "image/png": "[encoded data removed]",
      "text/plain": [
       "<matplotlib.figure.Figure at 0x1058ff9b0>"
      ]
     },
     "metadata": {},
     "output_type": "display_data"
    }
   ],
   "source": [
    "import matplotlib.pyplot as plt\n",
    "import seaborn as sns\n",
    "%matplotlib inline\n",
    "\n",
    "plt.figure(figsize = (9, 6))\n",
    "plt.plot(_y_test, predictions, marker = 'o', ls = '', alpha = 0.4)\n",
    "plt.grid(linestyle = '-')\n",
    "plt.ylabel('Predicted values')\n",
    "plt.xlabel('Real values') "
   ]
  }
 ],
 "metadata": {
  "anaconda-cloud": {},
  "kernelspec": {
   "display_name": "Python 3",
   "language": "python",
   "name": "python3"
  },
  "language_info": {
   "codemirror_mode": {
    "name": "ipython",
    "version": 3
   },
   "file_extension": ".py",
   "mimetype": "text/x-python",
   "name": "python",
   "nbconvert_exporter": "python",
   "pygments_lexer": "ipython3",
   "version": "3.6.4"
  },
  "name": "Train_Test_Splits_Regularization_Exercises-ANSWERS",
  "notebookId": 2125319687183944
 },
 "nbformat": 4,
 "nbformat_minor": 1
}
